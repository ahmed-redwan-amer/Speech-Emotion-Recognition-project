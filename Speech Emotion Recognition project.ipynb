{
 "cells": [
  {
   "cell_type": "code",
   "execution_count": 1,
   "metadata": {},
   "outputs": [],
   "source": [
    "#librosa مكتبه تتعامل مع الصوتيات و الموسيقي و اتعرف التلقائي للكلام \n",
    "import librosa\n",
    "#soundfile تستخدم لقرأءة الملفات الصوتيه و الكتايه عليها \n",
    "import soundfile\n",
    "#os  هي مكتبه تستخدم وظائف انظمه التشغيل لقراءة و الكتابه علي الملفات و معالجه المساراتو  قراءة جميع الأسطر في جميع الملفات الموجودة\n",
    "#glob (صوتيات مثلا) لاسترداد الملفات / المسارات التي تطابق نمطًا محددًا.\n",
    "#pickleثنائية لغرض سَلسلَة وإلغاء سَلسَلَة بنية كائنات بايثون و تطلق ايضا علي على العملية التي يتحوّل فيها تسلسل هرمي لكائن بايثون إلى تدفق بايتات byte stream\n",
    "import os, glob, pickle\n",
    "#numpy هي مكتبة يتم استخدامها فى البايثون\n",
    "#وهى مكتبة يتم استعمالها لانها تحتوى على mathimatics functions\n",
    "import numpy as np\n",
    "'''sklearn أدوات بسيطة وفعالة لتحليل البيانات التنبؤية\n",
    "في متناول الجميع ، ويمكن إعادة استخدامها في سياقات مختلفة\n",
    "مبني على NumPy و SciPy و matplotlib\n",
    "و يوجد فيها كذا خاصيه Classification,Regression,Clustering,Dimensionality reduction,Model selection,Preprocessing'''\n",
    "from sklearn.model_selection import train_test_split\n",
    "from sklearn.neural_network import MLPClassifier\n",
    "from sklearn.metrics import accuracy_score"
   ]
  },
  {
   "cell_type": "code",
   "execution_count": 2,
   "metadata": {},
   "outputs": [],
   "source": [
    "''' اول حاجه انا بعملها اني بعمل فانكشن عشان اسحب خواص الصوتيات الي عندي \n",
    "بيكون عندي 4 متغيرات اول حاجه الملف تاني حاجه درجه الصوت بتاعتك \n",
    "بستخرج لطبقه الصوت بتاعتك ثالث حاجه بحلل الخواص بتاعه صوتك عشانعشان اقدر احدد مشاعر صوتك عشان احدد الاموشن \n",
    "اخر حاجه اني بحدد تردد الصوت بتاعك '''\n",
    "def extract_feature(file_name, mfcc, chroma, mel):\n",
    "    #بستدعي المكتبه بتاعه الصوتيات عشان انفذ الاكواد الي بعد كده علي الصوت بتاعي \n",
    "    #هنحول ملفات الاصوات بتاعي الي مصفوفه \n",
    "    #هنقرئه بنوع فلوت 32\n",
    "    \n",
    "    with soundfile.SoundFile(file_name) as sound_file:\n",
    "        X = sound_file.read(dtype=\"float32\")\n",
    "        #كل فيل عندي ليه sample rate \n",
    "        #sample rate = هيرتز \n",
    "        #كل صوت بيتعمله sambling في كل ثانيه 144100\n",
    "         #هنجيب متوسط mfcc\n",
    "        # وهنعمل كده في chroma , mel\n",
    "        sample_rate=sound_file.samplerate\n",
    "        '''عشان مش كل المطلوب في الفانكشن موجود في الصوت 3 مطاليب \n",
    "          ف هنعمل شروط بحيث لو مطلوب من 3 مش موجود نقدر  نتعامل مع الصوت '''\n",
    "        result=np.array([])\n",
    "        if mfcc:\n",
    "            mfccs=np.mean(librosa.feature.mfcc(y=X, sr=sample_rate, n_mfcc=48).T, axis=0)\n",
    "            result=np.hstack((result, mfccs))\n",
    "        \n",
    "        if mel:\n",
    "            mel=np.mean(librosa.feature.melspectrogram(X, sr=sample_rate).T,axis=0)\n",
    "            result=np.hstack((result, mel))\n",
    "        \n",
    "        if chroma:\n",
    "            stft=np.abs(librosa.stft(X))\n",
    "            chroma=np.mean(librosa.feature.chroma_stft(S=stft, sr=sample_rate).T,axis=0)\n",
    "            result=np.hstack((result, chroma))\n",
    "       \n",
    "    return result"
   ]
  },
  {
   "cell_type": "code",
   "execution_count": 3,
   "metadata": {},
   "outputs": [],
   "source": [
    "#دي بتتجاب من الداتا مش انت الي بتالفها \n",
    "#محطوط في dic\n",
    "emotions={\n",
    "  '01':'neutral',\n",
    "  '02':'calm',\n",
    "  '03':'happy',\n",
    "  '04':'sad',\n",
    "  '05':'angry',\n",
    "  '06':'fearful',\n",
    "  '07':'disgust',\n",
    "  '08':'surprised'\n",
    "}\n",
    "#و هنا حطينا اهم الايموشن الي محتاجينها \n",
    "observed_emotions=['calm', 'happy', 'fearful', 'disgust']"
   ]
  },
  {
   "cell_type": "code",
   "execution_count": 4,
   "metadata": {},
   "outputs": [],
   "source": [
    "#هنعمل فانكشن تحمل الداتا و تقسمها و تستخر الفبتشر بتاعتها \n",
    "#هنقسم الداتا to train and test \n",
    "#هنستخدم ربع الداتا لtest \n",
    "def load_data(test_size=0.25):\n",
    "    #x= input\n",
    "    #y= output \n",
    "    \n",
    "    x,y=[],[]\n",
    "    # ده معناه خش للمسار الي عندك ده و خش جو كل فاييل فيهم \n",
    "    #الفايل الي هتلاقي فيه كلمه Actor_ و كمان حاجه زياده \n",
    "    # يعني لو في فايل مفهوش كلمه Actor_ متدخلهوش \n",
    "    # و تخش كل الفايلات الي جوه بس شرط يكون كل الصيغ wav\n",
    "    \n",
    "    for file in glob.glob(\"D:\\\\PYTHON\\\\voice emotion recognition\\\\data\\Actor_*\\\\*.wav\"):\n",
    "        file_name=os.path.basename(file)\n",
    "        #هنستخرج الاموشن من الاصوات و هنسحبها من الفايل بتاعي \n",
    "        #و هنعمل فصل للاسم بتاعه \n",
    "        #الطبيعي انه هيفصل عن طريق المسافه \n",
    "        #بس احنا فاصلين بين الملفات عن طريق \"-\"\n",
    "        #و تجيب العنصر رقم 2 الدال علي الايموشن \n",
    "        emotion=emotions[file_name.split(\"-\")[2]]\n",
    "        #سعات بتحصل مشاكل و يكون في ايموشن مش موجود .\n",
    "        # بنقوله عديه و خش علي الاموشن الي بعده \n",
    "        if emotion not in observed_emotions:\n",
    "            continue\n",
    "            #هنبدا نستخرج الخواص بتاعتنا  \n",
    "            \n",
    "        feature=extract_feature(file, mfcc=True, chroma=True, mel=True)\n",
    "        #بنقوله تعال في اخر X و ضيف الخواص بتاعته \n",
    "        # و ضيف في Y الايموشن \n",
    "        x.append(feature)\n",
    "        y.append(emotion)\n",
    "    #هبدا اعمل تدريب للداتا بتاعتي \n",
    "    x_train,x_test,y_train,y_test=train_test_split(np.array(x), y, test_size=test_size)\n",
    "    return x_train,x_test,y_train,y_test"
   ]
  },
  {
   "cell_type": "code",
   "execution_count": 21,
   "metadata": {},
   "outputs": [],
   "source": [
    "#هنبدا تحمل الداتا و يتدرب عليها \n",
    "x_train,x_test,y_train,y_test=load_data(test_size=0.25)\n"
   ]
  },
  {
   "cell_type": "code",
   "execution_count": 37,
   "metadata": {},
   "outputs": [],
   "source": [
    "# ميزته الموديول ده انه بيحتوي علي nlp جواه \n",
    "#بس بيكون مبسط \n",
    "#بالنسبه ل learning_rate بتاعي بيكون adaptiev يعني انا الي بعدله بنفسي \n",
    "model=MLPClassifier(alpha=0.01, batch_size=400, epsilon=1e-09, hidden_layer_sizes=(650,), learning_rate='adaptive', max_iter=400)"
   ]
  },
  {
   "cell_type": "code",
   "execution_count": 38,
   "metadata": {},
   "outputs": [
    {
     "name": "stderr",
     "output_type": "stream",
     "text": [
      "C:\\Users\\Ahmed\\Anaconda3\\lib\\site-packages\\sklearn\\neural_network\\_multilayer_perceptron.py:571: ConvergenceWarning: Stochastic Optimizer: Maximum iterations (400) reached and the optimization hasn't converged yet.\n",
      "  % self.max_iter, ConvergenceWarning)\n"
     ]
    },
    {
     "data": {
      "text/plain": [
       "MLPClassifier(activation='relu', alpha=0.01, batch_size=400, beta_1=0.9,\n",
       "              beta_2=0.999, early_stopping=False, epsilon=1e-09,\n",
       "              hidden_layer_sizes=(650,), learning_rate='adaptive',\n",
       "              learning_rate_init=0.001, max_fun=15000, max_iter=400,\n",
       "              momentum=0.9, n_iter_no_change=10, nesterovs_momentum=True,\n",
       "              power_t=0.5, random_state=None, shuffle=True, solver='adam',\n",
       "              tol=0.0001, validation_fraction=0.1, verbose=False,\n",
       "              warm_start=False)"
      ]
     },
     "execution_count": 38,
     "metadata": {},
     "output_type": "execute_result"
    }
   ],
   "source": [
    "#هنبدا نمرن الموديول بتاعنا \n",
    "model.fit(x_train,y_train)\n"
   ]
  },
  {
   "cell_type": "code",
   "execution_count": 39,
   "metadata": {},
   "outputs": [],
   "source": [
    "y_pred=model.predict(x_test)\n"
   ]
  },
  {
   "cell_type": "code",
   "execution_count": 40,
   "metadata": {},
   "outputs": [],
   "source": [
    "#معادله accuracy\n",
    "accuracy=accuracy_score(y_true=y_test, y_pred=y_pred)\n"
   ]
  },
  {
   "cell_type": "code",
   "execution_count": 41,
   "metadata": {},
   "outputs": [
    {
     "name": "stdout",
     "output_type": "stream",
     "text": [
      "Accuracy: 82.81%\n"
     ]
    }
   ],
   "source": [
    "#هنطبع accuracy بتاعه الموديول \n",
    "print(\"Accuracy: {:.2f}%\".format(accuracy*100))\n"
   ]
  },
  {
   "cell_type": "code",
   "execution_count": null,
   "metadata": {},
   "outputs": [],
   "source": []
  },
  {
   "cell_type": "code",
   "execution_count": null,
   "metadata": {},
   "outputs": [],
   "source": []
  },
  {
   "cell_type": "code",
   "execution_count": null,
   "metadata": {},
   "outputs": [],
   "source": []
  },
  {
   "cell_type": "code",
   "execution_count": null,
   "metadata": {},
   "outputs": [],
   "source": [
    "\n"
   ]
  },
  {
   "cell_type": "code",
   "execution_count": null,
   "metadata": {},
   "outputs": [],
   "source": []
  }
 ],
 "metadata": {
  "kernelspec": {
   "display_name": "Python 3",
   "language": "python",
   "name": "python3"
  },
  "language_info": {
   "codemirror_mode": {
    "name": "ipython",
    "version": 3
   },
   "file_extension": ".py",
   "mimetype": "text/x-python",
   "name": "python",
   "nbconvert_exporter": "python",
   "pygments_lexer": "ipython3",
   "version": "3.7.3"
  }
 },
 "nbformat": 4,
 "nbformat_minor": 4
}
